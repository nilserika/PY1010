{
 "cells": [
  {
   "cell_type": "markdown",
   "id": "78d297ae-48f8-42d4-98ae-0e748070c0d8",
   "metadata": {},
   "source": [
    "PY1010 Arbeidskrav 2 - Nils Erik Asmundvaag\n"
   ]
  },
  {
   "cell_type": "code",
   "execution_count": null,
   "id": "2f0b16b8-d3ea-4ed3-95d7-ae8be700e6e5",
   "metadata": {},
   "outputs": [],
   "source": [
    "# Oppgave 1\n",
    "\n",
    "basis_aar = 2024\n",
    "alder = int(input('Hvilket år er du født? ') )\n",
    "\n",
    "fyller = basis_aar - alder\n",
    "\n",
    "print(f'Du fyller {fyller} år i {basis_aar}')\n"
   ]
  },
  {
   "cell_type": "code",
   "execution_count": null,
   "id": "7c87a33f-c0e4-4a98-aaa3-13814237166c",
   "metadata": {},
   "outputs": [],
   "source": [
    "# Oppgave 2\n",
    "\n",
    "import math\n",
    "\n",
    "elever_pr_pizza = 4\n",
    "antall_elever = int(input('Skriv inn antall elever:' ))\n",
    "\n",
    "antall_pizza = antall_elever / elever_pr_pizza\n",
    "\n",
    "print(f'Det må handles inn {math.ceil(antall_pizza)} pizzaer til festen')"
   ]
  },
  {
   "cell_type": "code",
   "execution_count": null,
   "id": "eaf61627-3663-41a6-a80f-f2d7893fa745",
   "metadata": {},
   "outputs": [],
   "source": [
    "# Oppgave 3\n",
    "\n",
    "import numpy as np\n",
    "v_grad = float(input('Skriv inn gradtallet:' ))\n",
    "\n",
    "v_rad = v_grad*np.pi/180\n",
    "\n",
    "print(f'{v_grad} grader tilsvarer {v_rad:.3f} radianer')"
   ]
  },
  {
   "cell_type": "code",
   "execution_count": null,
   "id": "f40ca206-29e7-46ac-a5e0-14586c0ca6d5",
   "metadata": {},
   "outputs": [],
   "source": [
    "# Oppgave 4 a)\n",
    "\n",
    "data = {\n",
    "    \"Norge\": [\"Oslo\", 0.634],\n",
    "    \"England\": [\"London\", 8.982],\n",
    "    \"Frankrike\": [\"Paris\", 2.161],\n",
    "    \"Italia\": [\"Roma\", 2.873]\n",
    "}\n",
    "\n"
   ]
  },
  {
   "cell_type": "code",
   "execution_count": null,
   "id": "3cc533f4-fe6c-48f8-8472-dde603653e21",
   "metadata": {},
   "outputs": [],
   "source": [
    "# Oppgave 4 b)\n",
    "\n",
    "data = {\n",
    "    \"Norge\": [\"Oslo\", 0.634],\n",
    "    \"England\": [\"London\", 8.982],\n",
    "    \"Frankrike\": [\"Paris\", 2.161],\n",
    "    \"Italia\": [\"Roma\", 2.873]\n",
    "}\n",
    "\n",
    "land = input('Angi land:')\n",
    "\n",
    "if land in data:\n",
    "    hovedstad = data[land][0]\n",
    "    innbyggere = data[land][1]\n",
    "    print(f'{hovedstad} er hovedstaden i {land} og det er {innbyggere} mill. innbyggere i {hovedstad}')\n",
    "else:\n",
    "    print('Ukjent land')"
   ]
  },
  {
   "cell_type": "code",
   "execution_count": null,
   "id": "cd178b25-a9f2-4df7-a284-eb8b3072d20e",
   "metadata": {},
   "outputs": [],
   "source": [
    "# Oppgave 4 c)\n",
    "\n",
    "data = {\n",
    "    \"Norge\": [\"Oslo\", 0.634],\n",
    "    \"England\": [\"London\", 8.982],\n",
    "    \"Frankrike\": [\"Paris\", 2.161],\n",
    "    \"Italia\": [\"Roma\", 2.873]\n",
    "}\n",
    "\n",
    "land = input('Angi nytt land:')\n",
    "\n",
    "if land in data:\n",
    "    print('Landet er allerede registrert')\n",
    "else:\n",
    "    hovedstad = input('Hva er hovedstaden?')\n",
    "    innbyggere = input(f'Hvor mange innbyggere har {hovedstad} (millioner)?')\n",
    "    data[land] = [hovedstad, innbyggere]\n",
    "    print(data)"
   ]
  },
  {
   "cell_type": "code",
   "execution_count": null,
   "id": "56e7dff0-b91c-4de3-87f0-b90ec33fd9bc",
   "metadata": {},
   "outputs": [],
   "source": [
    "# Oppgave 5\n",
    "\n",
    "import math\n",
    "\n",
    "a = float(input('Verdi av a:'))\n",
    "b = float(input('Verdi av b:'))\n",
    "\n",
    "hyp = math.sqrt(a**2 + b**2)\n",
    "bue = 2 * math.pi * (a / 2) / 2\n",
    "omkrets = b + hyp + bue\n",
    "\n",
    "print(f'Ytre omkrets er {omkrets:.3f}')\n",
    "\n",
    "areal_trekant = a* b / 2\n",
    "\n",
    "areal_sirkel = math.pi * ((a/2) ** 2) /2\n",
    "\n",
    "areal = areal_trekant + areal_sirkel\n",
    "\n",
    "print(f'Arealet er {areal:.3f}')"
   ]
  },
  {
   "cell_type": "code",
   "execution_count": null,
   "id": "9ecbf1f7-2e19-4eab-9985-d8e68c1ab2d9",
   "metadata": {},
   "outputs": [],
   "source": [
    "# Oppgave 6\n",
    "\n",
    "import matplotlib.pyplot as plt\n",
    "import numpy as np\n",
    "\n",
    "x = np.linspace(-10, 10, 200)\n",
    "\n",
    "y = -x**2 - 5\n",
    "\n",
    "plt.plot(x, y)\n",
    "plt.title('f(x) = -x^2 - 5')\n",
    "plt.grid()\n",
    "plt.show()\n"
   ]
  }
 ],
 "metadata": {
  "kernelspec": {
   "display_name": "Python 3 (ipykernel)",
   "language": "python",
   "name": "python3"
  },
  "language_info": {
   "codemirror_mode": {
    "name": "ipython",
    "version": 3
   },
   "file_extension": ".py",
   "mimetype": "text/x-python",
   "name": "python",
   "nbconvert_exporter": "python",
   "pygments_lexer": "ipython3",
   "version": "3.12.4"
  }
 },
 "nbformat": 4,
 "nbformat_minor": 5
}
